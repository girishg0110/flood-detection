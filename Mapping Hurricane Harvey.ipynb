{
 "cells": [
  {
   "cell_type": "markdown",
   "metadata": {},
   "source": [
    "# Mapping Hurricane Harvey"
   ]
  },
  {
   "cell_type": "markdown",
   "metadata": {},
   "source": [
    "## Set Up and Initialization"
   ]
  },
  {
   "cell_type": "markdown",
   "metadata": {},
   "source": [
    "We will be start by using three modules in this program: ee, folium, and geehydro.  \n",
    "1) ee allows us to interface with Google Earth Engine in a Python development environment. Through GEE, we can aquire publically available satellite data from Sentinel-I.  \n",
    "2) folium is used to display map data. It will generate a html file at the very end of our development which can be opened and shared.  \n",
    "3) geehydro adds some additional functionality to folium. Namely, some of the functions available on GEE's Javascript Code Editor are not available just by importing ee and folium.  "
   ]
  },
  {
   "cell_type": "code",
   "execution_count": 1,
   "metadata": {},
   "outputs": [],
   "source": [
    "import ee, folium, geehydro\n",
    "import pandas as pd\n",
    "\n",
    "ee.Authenticate() # You only need to run this command once. It authenticates your EE Developer credentials.\n",
    "ee.Initialize()"
   ]
  },
  {
   "cell_type": "markdown",
   "metadata": {},
   "source": [
    "## Data Collection"
   ]
  },
  {
   "cell_type": "code",
   "execution_count": null,
   "metadata": {},
   "outputs": [],
   "source": [
    "# Houston's coordinates stored in a Point construct\n",
    "houston_point = ee.Geometry.Point([-95.37, 29.76])\n",
    "\n",
    "# 8/1 to 8/16 is our before; 8/17 to 9/2 is our after\n",
    "harvey_collect = sentinel1\\\n",
    ".filter(ee.Filter.date('2017-08-01', '2017-09-02'))\\ # starts one week before Harvey\n",
    ".filterBounds(houston_point)\\ # geographical filtering\n",
    ".filter(ee.Filter.listContains('transmitterReceiverPolarisation', 'VV'))\\ \n",
    ".select('VV') # VV bands work best with speckle filtering, so we'll isolate those\n",
    "\n",
    "# Filter by date {before, after}: create mosaics out of overlapping Sentinel imagery\n",
    "    # before provides a baseline for how Houston \"normally\" looks\n",
    "    # after shows us how Houston looked after Harvey hit\n",
    "before = harvey_collect.filterDate('2017-08-01', '2017-08-16').mosaic() \n",
    "after = harvey_collect.filterDate('2017-08-17', '2017-09-02').mosaic()"
   ]
  },
  {
   "cell_type": "markdown",
   "metadata": {},
   "source": [
    "## Data Processing"
   ]
  },
  {
   "cell_type": "code",
   "execution_count": null,
   "metadata": {},
   "outputs": [],
   "source": [
    "# Here, we perform speckle filtering (can also be done on SNAP, \n",
    "#     the ESA's desktop program for working with Sentinel imagery).\n",
    "SMOOTHING_RADIUS = 100\n",
    "DIFF_UPPER_THRESHOLD = -3\n",
    "diff_smoothed = after.focal_median(SMOOTHING_RADIUS, 'circle', 'meters') \\\n",
    "    .subtract(before.focal_median(SMOOTHING_RADIUS, 'circle', 'meters'))\n",
    "diff_thresholded = diff_smoothed.lt(DIFF_UPPER_THRESHOLD)"
   ]
  },
  {
   "cell_type": "markdown",
   "metadata": {},
   "source": [
    "## Map Display Pt. 1 - Flooding"
   ]
  },
  {
   "cell_type": "code",
   "execution_count": null,
   "metadata": {},
   "outputs": [],
   "source": [
    "Map = folium.Map()\n",
    "Map.centerObject(houston_point, 13)\n",
    "Map.addLayer(diff_thresholded.updateMask(diff_thresholded), {'palette': '0000FF'}, 'flooded areas - blue')"
   ]
  },
  {
   "cell_type": "markdown",
   "metadata": {},
   "source": [
    "## Map Display Pt. 2 - High Water Marks"
   ]
  },
  {
   "cell_type": "markdown",
   "metadata": {},
   "source": [
    "We'll be reading in the High Water Mark data from a CSV file (linked in the readme). To get data from a CSV, we need one more module: Pandas."
   ]
  },
  {
   "cell_type": "code",
   "execution_count": null,
   "metadata": {},
   "outputs": [],
   "source": [
    "import pandas as pd\n",
    "\n",
    "# Replace this with the path/name of the CSV file on your system.\n",
    "FILE_NAME = './Harvey_HWMs.csv'\n",
    "hwm = pd.read_csv(FILE_NAME)\n",
    "# There were thousands of HWMs recorded during Harvey. \n",
    "#    To make the map more understandable, we introduce a minimum height above ground.\n",
    "HWM_THRESHOLD = 0\n",
    "for i in range(hwm['height_above_gnd'].size):\n",
    "    if (hwm['height_above_gnd'][i] > HWM_THRESHOLD):\n",
    "        folium.Marker(location = [hwm['latitude'][i], hwm['longitude'][i]]).add_to(Map)"
   ]
  },
  {
   "cell_type": "markdown",
   "metadata": {},
   "source": [
    "## Saving and Displaying the Map"
   ]
  },
  {
   "cell_type": "code",
   "execution_count": null,
   "metadata": {},
   "outputs": [],
   "source": [
    "MAP_NAME = 'HoustonHarvey_HWM' # Change this to whatever file name you wish.\n",
    "# The map will be saved as an HTML file which displays an OpenStreetMap when clicked.\n",
    "Map.save('HoustonHarvey_HighWaterMarks.html') "
   ]
  }
 ],
 "metadata": {
  "kernelspec": {
   "display_name": "Python 3",
   "language": "python",
   "name": "python3"
  },
  "language_info": {
   "codemirror_mode": {
    "name": "ipython",
    "version": 3
   },
   "file_extension": ".py",
   "mimetype": "text/x-python",
   "name": "python",
   "nbconvert_exporter": "python",
   "pygments_lexer": "ipython3",
   "version": "3.7.6"
  }
 },
 "nbformat": 4,
 "nbformat_minor": 4
}
